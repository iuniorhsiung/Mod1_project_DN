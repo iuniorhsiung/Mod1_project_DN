{
 "cells": [
  {
   "cell_type": "markdown",
   "metadata": {},
   "source": [
    "## Import packages and dataset"
   ]
  },
  {
   "cell_type": "code",
   "execution_count": 117,
   "metadata": {},
   "outputs": [],
   "source": [
    "import pandas as pd\n",
    "import numpy as np\n",
    "import seaborn as sns\n",
    "import matplotlib.pyplot as plt\n",
    "\n",
    "# Load in data\n",
    "movie_sum = pd.read_csv(\"data/movie_sum.csv\")"
   ]
  },
  {
   "cell_type": "code",
   "execution_count": 118,
   "metadata": {},
   "outputs": [
    {
     "data": {
      "text/html": [
       "<div>\n",
       "<style scoped>\n",
       "    .dataframe tbody tr th:only-of-type {\n",
       "        vertical-align: middle;\n",
       "    }\n",
       "\n",
       "    .dataframe tbody tr th {\n",
       "        vertical-align: top;\n",
       "    }\n",
       "\n",
       "    .dataframe thead th {\n",
       "        text-align: right;\n",
       "    }\n",
       "</style>\n",
       "<table border=\"1\" class=\"dataframe\">\n",
       "  <thead>\n",
       "    <tr style=\"text-align: right;\">\n",
       "      <th></th>\n",
       "      <th>id</th>\n",
       "      <th>release_date</th>\n",
       "      <th>movie</th>\n",
       "      <th>production_budget</th>\n",
       "      <th>domestic_gross_tmdb</th>\n",
       "      <th>worldwide_gross_tmdb</th>\n",
       "      <th>studio</th>\n",
       "      <th>domestic_gross</th>\n",
       "      <th>foreign_gross</th>\n",
       "      <th>year</th>\n",
       "      <th>tconst</th>\n",
       "      <th>genres</th>\n",
       "      <th>Average Rating</th>\n",
       "      <th>Number of Votes</th>\n",
       "      <th>directors</th>\n",
       "      <th>writers</th>\n",
       "    </tr>\n",
       "  </thead>\n",
       "  <tbody>\n",
       "    <tr>\n",
       "      <td>0</td>\n",
       "      <td>2.0</td>\n",
       "      <td>May 20, 2011</td>\n",
       "      <td>Pirates of the Caribbean: On Stranger Tides</td>\n",
       "      <td>410600000.0</td>\n",
       "      <td>241063875.0</td>\n",
       "      <td>1.045664e+09</td>\n",
       "      <td>BV</td>\n",
       "      <td>241100000.0</td>\n",
       "      <td>804600000.0</td>\n",
       "      <td>2011</td>\n",
       "      <td>tt1298650</td>\n",
       "      <td>Action,Adventure,Fantasy</td>\n",
       "      <td>6.6</td>\n",
       "      <td>447624.0</td>\n",
       "      <td>nm0551128</td>\n",
       "      <td>nm0254645,nm0744429,nm0064181,nm0938684,nm0694627</td>\n",
       "    </tr>\n",
       "    <tr>\n",
       "      <td>1</td>\n",
       "      <td>4.0</td>\n",
       "      <td>May 1, 2015</td>\n",
       "      <td>Avengers: Age of Ultron</td>\n",
       "      <td>330600000.0</td>\n",
       "      <td>459005868.0</td>\n",
       "      <td>1.403014e+09</td>\n",
       "      <td>BV</td>\n",
       "      <td>459000000.0</td>\n",
       "      <td>946400000.0</td>\n",
       "      <td>2015</td>\n",
       "      <td>tt2395427</td>\n",
       "      <td>Action,Adventure,Sci-Fi</td>\n",
       "      <td>7.3</td>\n",
       "      <td>665594.0</td>\n",
       "      <td>nm0923736</td>\n",
       "      <td>nm0923736,nm0498278,nm0456158,nm0800209,nm4160687</td>\n",
       "    </tr>\n",
       "    <tr>\n",
       "      <td>2</td>\n",
       "      <td>7.0</td>\n",
       "      <td>Apr 27, 2018</td>\n",
       "      <td>Avengers: Infinity War</td>\n",
       "      <td>300000000.0</td>\n",
       "      <td>678815482.0</td>\n",
       "      <td>2.048134e+09</td>\n",
       "      <td>BV</td>\n",
       "      <td>678800000.0</td>\n",
       "      <td>1369.5</td>\n",
       "      <td>2018</td>\n",
       "      <td>tt4154756</td>\n",
       "      <td>Action,Adventure,Sci-Fi</td>\n",
       "      <td>8.5</td>\n",
       "      <td>670926.0</td>\n",
       "      <td>nm0751577,nm0751648</td>\n",
       "      <td>nm1321655,nm1321656,nm0498278,nm0456158,nm0800...</td>\n",
       "    </tr>\n",
       "    <tr>\n",
       "      <td>3</td>\n",
       "      <td>9.0</td>\n",
       "      <td>Nov 17, 2017</td>\n",
       "      <td>Justice League</td>\n",
       "      <td>300000000.0</td>\n",
       "      <td>229024295.0</td>\n",
       "      <td>6.559452e+08</td>\n",
       "      <td>WB</td>\n",
       "      <td>229000000.0</td>\n",
       "      <td>428900000.0</td>\n",
       "      <td>2017</td>\n",
       "      <td>tt0974015</td>\n",
       "      <td>Action,Adventure,Fantasy</td>\n",
       "      <td>6.5</td>\n",
       "      <td>329135.0</td>\n",
       "      <td>nm0811583</td>\n",
       "      <td>nm0796950,nm0795975,nm0006516,nm0811583,nm0923...</td>\n",
       "    </tr>\n",
       "    <tr>\n",
       "      <td>4</td>\n",
       "      <td>10.0</td>\n",
       "      <td>Nov 6, 2015</td>\n",
       "      <td>Spectre</td>\n",
       "      <td>300000000.0</td>\n",
       "      <td>200074175.0</td>\n",
       "      <td>8.796209e+08</td>\n",
       "      <td>Sony</td>\n",
       "      <td>200100000.0</td>\n",
       "      <td>680600000.0</td>\n",
       "      <td>2015</td>\n",
       "      <td>tt2379713</td>\n",
       "      <td>Action,Adventure,Thriller</td>\n",
       "      <td>6.8</td>\n",
       "      <td>352504.0</td>\n",
       "      <td>nm0005222</td>\n",
       "      <td>nm0517589,nm0701031,nm0905498,nm0125336,nm0001220</td>\n",
       "    </tr>\n",
       "  </tbody>\n",
       "</table>\n",
       "</div>"
      ],
      "text/plain": [
       "     id  release_date                                        movie  \\\n",
       "0   2.0  May 20, 2011  Pirates of the Caribbean: On Stranger Tides   \n",
       "1   4.0   May 1, 2015                      Avengers: Age of Ultron   \n",
       "2   7.0  Apr 27, 2018                       Avengers: Infinity War   \n",
       "3   9.0  Nov 17, 2017                               Justice League   \n",
       "4  10.0   Nov 6, 2015                                      Spectre   \n",
       "\n",
       "   production_budget  domestic_gross_tmdb  worldwide_gross_tmdb studio  \\\n",
       "0        410600000.0          241063875.0          1.045664e+09     BV   \n",
       "1        330600000.0          459005868.0          1.403014e+09     BV   \n",
       "2        300000000.0          678815482.0          2.048134e+09     BV   \n",
       "3        300000000.0          229024295.0          6.559452e+08     WB   \n",
       "4        300000000.0          200074175.0          8.796209e+08   Sony   \n",
       "\n",
       "   domestic_gross  foreign_gross  year     tconst                     genres  \\\n",
       "0     241100000.0    804600000.0  2011  tt1298650   Action,Adventure,Fantasy   \n",
       "1     459000000.0    946400000.0  2015  tt2395427    Action,Adventure,Sci-Fi   \n",
       "2     678800000.0         1369.5  2018  tt4154756    Action,Adventure,Sci-Fi   \n",
       "3     229000000.0    428900000.0  2017  tt0974015   Action,Adventure,Fantasy   \n",
       "4     200100000.0    680600000.0  2015  tt2379713  Action,Adventure,Thriller   \n",
       "\n",
       "   Average Rating  Number of Votes            directors  \\\n",
       "0             6.6         447624.0            nm0551128   \n",
       "1             7.3         665594.0            nm0923736   \n",
       "2             8.5         670926.0  nm0751577,nm0751648   \n",
       "3             6.5         329135.0            nm0811583   \n",
       "4             6.8         352504.0            nm0005222   \n",
       "\n",
       "                                             writers  \n",
       "0  nm0254645,nm0744429,nm0064181,nm0938684,nm0694627  \n",
       "1  nm0923736,nm0498278,nm0456158,nm0800209,nm4160687  \n",
       "2  nm1321655,nm1321656,nm0498278,nm0456158,nm0800...  \n",
       "3  nm0796950,nm0795975,nm0006516,nm0811583,nm0923...  \n",
       "4  nm0517589,nm0701031,nm0905498,nm0125336,nm0001220  "
      ]
     },
     "execution_count": 118,
     "metadata": {},
     "output_type": "execute_result"
    }
   ],
   "source": [
    "movie_sum.head()"
   ]
  },
  {
   "cell_type": "code",
   "execution_count": 119,
   "metadata": {},
   "outputs": [
    {
     "name": "stdout",
     "output_type": "stream",
     "text": [
      "<class 'pandas.core.frame.DataFrame'>\n",
      "RangeIndex: 1247 entries, 0 to 1246\n",
      "Data columns (total 16 columns):\n",
      "id                      1247 non-null float64\n",
      "release_date            1247 non-null object\n",
      "movie                   1247 non-null object\n",
      "production_budget       1247 non-null float64\n",
      "domestic_gross_tmdb     1247 non-null float64\n",
      "worldwide_gross_tmdb    1247 non-null float64\n",
      "studio                  1246 non-null object\n",
      "domestic_gross          1245 non-null float64\n",
      "foreign_gross           1086 non-null float64\n",
      "year                    1247 non-null int64\n",
      "tconst                  1167 non-null object\n",
      "genres                  1161 non-null object\n",
      "Average Rating          1143 non-null float64\n",
      "Number of Votes         1143 non-null float64\n",
      "directors               1161 non-null object\n",
      "writers                 1145 non-null object\n",
      "dtypes: float64(8), int64(1), object(7)\n",
      "memory usage: 156.0+ KB\n"
     ]
    }
   ],
   "source": [
    "movie_sum.info()"
   ]
  },
  {
   "cell_type": "code",
   "execution_count": 120,
   "metadata": {},
   "outputs": [],
   "source": [
    "movie_sumor = movie_sum.sort_values(by = ['domestic_gross_tmdb'], ascending=False)"
   ]
  },
  {
   "cell_type": "markdown",
   "metadata": {},
   "source": [
    "### Create two variables to define profit"
   ]
  },
  {
   "cell_type": "code",
   "execution_count": 121,
   "metadata": {},
   "outputs": [],
   "source": [
    "movie_sumor[\"Profit\"] = (movie_sumor[\"domestic_gross_tmdb\"] - movie_sumor[\"production_budget\"])/1000000\n",
    "movie_sumor[\"Profit Percentage\"] = (movie_sumor[\"Profit\"]/movie_sumor[\"production_budget\"])*100"
   ]
  },
  {
   "cell_type": "code",
   "execution_count": 122,
   "metadata": {},
   "outputs": [],
   "source": [
    "movie_pro = movie_sumor.sort_values(by = ['Profit'], ascending=False)\n",
    "movie_per = movie_sumor.sort_values(by = ['Profit Percentage'], ascending=False)"
   ]
  },
  {
   "cell_type": "code",
   "execution_count": 123,
   "metadata": {
    "scrolled": true
   },
   "outputs": [
    {
     "data": {
      "text/html": [
       "<div>\n",
       "<style scoped>\n",
       "    .dataframe tbody tr th:only-of-type {\n",
       "        vertical-align: middle;\n",
       "    }\n",
       "\n",
       "    .dataframe tbody tr th {\n",
       "        vertical-align: top;\n",
       "    }\n",
       "\n",
       "    .dataframe thead th {\n",
       "        text-align: right;\n",
       "    }\n",
       "</style>\n",
       "<table border=\"1\" class=\"dataframe\">\n",
       "  <thead>\n",
       "    <tr style=\"text-align: right;\">\n",
       "      <th></th>\n",
       "      <th>id</th>\n",
       "      <th>release_date</th>\n",
       "      <th>movie</th>\n",
       "      <th>production_budget</th>\n",
       "      <th>domestic_gross_tmdb</th>\n",
       "      <th>worldwide_gross_tmdb</th>\n",
       "      <th>studio</th>\n",
       "      <th>domestic_gross</th>\n",
       "      <th>foreign_gross</th>\n",
       "      <th>year</th>\n",
       "      <th>tconst</th>\n",
       "      <th>genres</th>\n",
       "      <th>Average Rating</th>\n",
       "      <th>Number of Votes</th>\n",
       "      <th>directors</th>\n",
       "      <th>writers</th>\n",
       "      <th>Profit</th>\n",
       "      <th>Profit Percentage</th>\n",
       "    </tr>\n",
       "  </thead>\n",
       "  <tbody>\n",
       "    <tr>\n",
       "      <td>25</td>\n",
       "      <td>42.0</td>\n",
       "      <td>Feb 16, 2018</td>\n",
       "      <td>Black Panther</td>\n",
       "      <td>200000000.0</td>\n",
       "      <td>700059566.0</td>\n",
       "      <td>1.348258e+09</td>\n",
       "      <td>BV</td>\n",
       "      <td>700100000.0</td>\n",
       "      <td>646900000.0</td>\n",
       "      <td>2018</td>\n",
       "      <td>tt1825683</td>\n",
       "      <td>Action,Adventure,Sci-Fi</td>\n",
       "      <td>7.3</td>\n",
       "      <td>516148.0</td>\n",
       "      <td>nm3363032</td>\n",
       "      <td>nm3363032,nm1963288,nm0498278,nm0456158</td>\n",
       "      <td>500.059566</td>\n",
       "      <td>0.000250</td>\n",
       "    </tr>\n",
       "    <tr>\n",
       "      <td>21</td>\n",
       "      <td>34.0</td>\n",
       "      <td>Jun 12, 2015</td>\n",
       "      <td>Jurassic World</td>\n",
       "      <td>215000000.0</td>\n",
       "      <td>652270625.0</td>\n",
       "      <td>1.648855e+09</td>\n",
       "      <td>Uni.</td>\n",
       "      <td>652300000.0</td>\n",
       "      <td>1019.4</td>\n",
       "      <td>2015</td>\n",
       "      <td>tt0369610</td>\n",
       "      <td>Action,Adventure,Sci-Fi</td>\n",
       "      <td>7.0</td>\n",
       "      <td>539338.0</td>\n",
       "      <td>nm1119880</td>\n",
       "      <td>nm0415425,nm0798646,nm1119880,nm2081046,nm0000341</td>\n",
       "      <td>437.270625</td>\n",
       "      <td>0.000203</td>\n",
       "    </tr>\n",
       "    <tr>\n",
       "      <td>26</td>\n",
       "      <td>44.0</td>\n",
       "      <td>Jun 15, 2018</td>\n",
       "      <td>Incredibles 2</td>\n",
       "      <td>200000000.0</td>\n",
       "      <td>608581744.0</td>\n",
       "      <td>1.242521e+09</td>\n",
       "      <td>BV</td>\n",
       "      <td>608600000.0</td>\n",
       "      <td>634200000.0</td>\n",
       "      <td>2018</td>\n",
       "      <td>tt3606756</td>\n",
       "      <td>Action,Adventure,Animation</td>\n",
       "      <td>7.7</td>\n",
       "      <td>203510.0</td>\n",
       "      <td>nm0083348</td>\n",
       "      <td>nm0083348</td>\n",
       "      <td>408.581744</td>\n",
       "      <td>0.000204</td>\n",
       "    </tr>\n",
       "    <tr>\n",
       "      <td>2</td>\n",
       "      <td>7.0</td>\n",
       "      <td>Apr 27, 2018</td>\n",
       "      <td>Avengers: Infinity War</td>\n",
       "      <td>300000000.0</td>\n",
       "      <td>678815482.0</td>\n",
       "      <td>2.048134e+09</td>\n",
       "      <td>BV</td>\n",
       "      <td>678800000.0</td>\n",
       "      <td>1369.5</td>\n",
       "      <td>2018</td>\n",
       "      <td>tt4154756</td>\n",
       "      <td>Action,Adventure,Sci-Fi</td>\n",
       "      <td>8.5</td>\n",
       "      <td>670926.0</td>\n",
       "      <td>nm0751577,nm0751648</td>\n",
       "      <td>nm1321655,nm1321656,nm0498278,nm0456158,nm0800...</td>\n",
       "      <td>378.815482</td>\n",
       "      <td>0.000126</td>\n",
       "    </tr>\n",
       "    <tr>\n",
       "      <td>27</td>\n",
       "      <td>45.0</td>\n",
       "      <td>Dec 16, 2016</td>\n",
       "      <td>Rogue One: A Star Wars Story</td>\n",
       "      <td>200000000.0</td>\n",
       "      <td>532177324.0</td>\n",
       "      <td>1.049103e+09</td>\n",
       "      <td>BV</td>\n",
       "      <td>532200000.0</td>\n",
       "      <td>523900000.0</td>\n",
       "      <td>2016</td>\n",
       "      <td>tt3748528</td>\n",
       "      <td>Action,Adventure,Sci-Fi</td>\n",
       "      <td>7.8</td>\n",
       "      <td>478592.0</td>\n",
       "      <td>nm2284484</td>\n",
       "      <td>nm0919363,nm0006904,nm0461306,nm1729428,nm0000184</td>\n",
       "      <td>332.177324</td>\n",
       "      <td>0.000166</td>\n",
       "    </tr>\n",
       "  </tbody>\n",
       "</table>\n",
       "</div>"
      ],
      "text/plain": [
       "      id  release_date                         movie  production_budget  \\\n",
       "25  42.0  Feb 16, 2018                 Black Panther        200000000.0   \n",
       "21  34.0  Jun 12, 2015                Jurassic World        215000000.0   \n",
       "26  44.0  Jun 15, 2018                 Incredibles 2        200000000.0   \n",
       "2    7.0  Apr 27, 2018        Avengers: Infinity War        300000000.0   \n",
       "27  45.0  Dec 16, 2016  Rogue One: A Star Wars Story        200000000.0   \n",
       "\n",
       "    domestic_gross_tmdb  worldwide_gross_tmdb studio  domestic_gross  \\\n",
       "25          700059566.0          1.348258e+09     BV     700100000.0   \n",
       "21          652270625.0          1.648855e+09   Uni.     652300000.0   \n",
       "26          608581744.0          1.242521e+09     BV     608600000.0   \n",
       "2           678815482.0          2.048134e+09     BV     678800000.0   \n",
       "27          532177324.0          1.049103e+09     BV     532200000.0   \n",
       "\n",
       "    foreign_gross  year     tconst                      genres  \\\n",
       "25    646900000.0  2018  tt1825683     Action,Adventure,Sci-Fi   \n",
       "21         1019.4  2015  tt0369610     Action,Adventure,Sci-Fi   \n",
       "26    634200000.0  2018  tt3606756  Action,Adventure,Animation   \n",
       "2          1369.5  2018  tt4154756     Action,Adventure,Sci-Fi   \n",
       "27    523900000.0  2016  tt3748528     Action,Adventure,Sci-Fi   \n",
       "\n",
       "    Average Rating  Number of Votes            directors  \\\n",
       "25             7.3         516148.0            nm3363032   \n",
       "21             7.0         539338.0            nm1119880   \n",
       "26             7.7         203510.0            nm0083348   \n",
       "2              8.5         670926.0  nm0751577,nm0751648   \n",
       "27             7.8         478592.0            nm2284484   \n",
       "\n",
       "                                              writers      Profit  \\\n",
       "25            nm3363032,nm1963288,nm0498278,nm0456158  500.059566   \n",
       "21  nm0415425,nm0798646,nm1119880,nm2081046,nm0000341  437.270625   \n",
       "26                                          nm0083348  408.581744   \n",
       "2   nm1321655,nm1321656,nm0498278,nm0456158,nm0800...  378.815482   \n",
       "27  nm0919363,nm0006904,nm0461306,nm1729428,nm0000184  332.177324   \n",
       "\n",
       "    Profit Percentage  \n",
       "25           0.000250  \n",
       "21           0.000203  \n",
       "26           0.000204  \n",
       "2            0.000126  \n",
       "27           0.000166  "
      ]
     },
     "execution_count": 123,
     "metadata": {},
     "output_type": "execute_result"
    }
   ],
   "source": [
    "movie_pro.head()"
   ]
  },
  {
   "cell_type": "code",
   "execution_count": 124,
   "metadata": {},
   "outputs": [
    {
     "data": {
      "text/html": [
       "<div>\n",
       "<style scoped>\n",
       "    .dataframe tbody tr th:only-of-type {\n",
       "        vertical-align: middle;\n",
       "    }\n",
       "\n",
       "    .dataframe tbody tr th {\n",
       "        vertical-align: top;\n",
       "    }\n",
       "\n",
       "    .dataframe thead th {\n",
       "        text-align: right;\n",
       "    }\n",
       "</style>\n",
       "<table border=\"1\" class=\"dataframe\">\n",
       "  <thead>\n",
       "    <tr style=\"text-align: right;\">\n",
       "      <th></th>\n",
       "      <th>id</th>\n",
       "      <th>release_date</th>\n",
       "      <th>movie</th>\n",
       "      <th>production_budget</th>\n",
       "      <th>domestic_gross_tmdb</th>\n",
       "      <th>worldwide_gross_tmdb</th>\n",
       "      <th>studio</th>\n",
       "      <th>domestic_gross</th>\n",
       "      <th>foreign_gross</th>\n",
       "      <th>year</th>\n",
       "      <th>tconst</th>\n",
       "      <th>genres</th>\n",
       "      <th>Average Rating</th>\n",
       "      <th>Number of Votes</th>\n",
       "      <th>directors</th>\n",
       "      <th>writers</th>\n",
       "      <th>Profit</th>\n",
       "      <th>Profit Percentage</th>\n",
       "    </tr>\n",
       "  </thead>\n",
       "  <tbody>\n",
       "    <tr>\n",
       "      <td>1244</td>\n",
       "      <td>80.0</td>\n",
       "      <td>Jul 10, 2015</td>\n",
       "      <td>The Gallows</td>\n",
       "      <td>100000.0</td>\n",
       "      <td>22764410.0</td>\n",
       "      <td>41656474.0</td>\n",
       "      <td>WB (NL)</td>\n",
       "      <td>22800000.0</td>\n",
       "      <td>20200000.0</td>\n",
       "      <td>2015</td>\n",
       "      <td>tt2309260</td>\n",
       "      <td>Horror,Mystery,Thriller</td>\n",
       "      <td>4.2</td>\n",
       "      <td>17763.0</td>\n",
       "      <td>nm4000389,nm3951039</td>\n",
       "      <td>nm3951039,nm4000389</td>\n",
       "      <td>22.664410</td>\n",
       "      <td>0.022664</td>\n",
       "    </tr>\n",
       "    <tr>\n",
       "      <td>1206</td>\n",
       "      <td>12.0</td>\n",
       "      <td>Jan 6, 2012</td>\n",
       "      <td>The Devil Inside</td>\n",
       "      <td>1000000.0</td>\n",
       "      <td>53262945.0</td>\n",
       "      <td>101759490.0</td>\n",
       "      <td>Par.</td>\n",
       "      <td>53300000.0</td>\n",
       "      <td>48500000.0</td>\n",
       "      <td>2012</td>\n",
       "      <td>tt1560985</td>\n",
       "      <td>Horror</td>\n",
       "      <td>4.2</td>\n",
       "      <td>33522.0</td>\n",
       "      <td>nm0068587</td>\n",
       "      <td>nm0068587,nm1834343</td>\n",
       "      <td>52.262945</td>\n",
       "      <td>0.005226</td>\n",
       "    </tr>\n",
       "    <tr>\n",
       "      <td>1201</td>\n",
       "      <td>63.0</td>\n",
       "      <td>Apr 1, 2011</td>\n",
       "      <td>Insidious</td>\n",
       "      <td>1500000.0</td>\n",
       "      <td>54009150.0</td>\n",
       "      <td>99870886.0</td>\n",
       "      <td>FD</td>\n",
       "      <td>54000000.0</td>\n",
       "      <td>43000000.0</td>\n",
       "      <td>2011</td>\n",
       "      <td>tt1591095</td>\n",
       "      <td>Horror,Mystery,Thriller</td>\n",
       "      <td>6.9</td>\n",
       "      <td>254197.0</td>\n",
       "      <td>nm1490123</td>\n",
       "      <td>nm1191481</td>\n",
       "      <td>52.509150</td>\n",
       "      <td>0.003501</td>\n",
       "    </tr>\n",
       "    <tr>\n",
       "      <td>1062</td>\n",
       "      <td>49.0</td>\n",
       "      <td>Feb 24, 2017</td>\n",
       "      <td>Get Out</td>\n",
       "      <td>5000000.0</td>\n",
       "      <td>176040665.0</td>\n",
       "      <td>255367951.0</td>\n",
       "      <td>Uni.</td>\n",
       "      <td>176000000.0</td>\n",
       "      <td>79400000.0</td>\n",
       "      <td>2017</td>\n",
       "      <td>tt5052448</td>\n",
       "      <td>Horror,Mystery,Thriller</td>\n",
       "      <td>7.7</td>\n",
       "      <td>400474.0</td>\n",
       "      <td>nm1443502</td>\n",
       "      <td>nm1443502</td>\n",
       "      <td>171.040665</td>\n",
       "      <td>0.003421</td>\n",
       "    </tr>\n",
       "    <tr>\n",
       "      <td>1207</td>\n",
       "      <td>14.0</td>\n",
       "      <td>Apr 17, 2015</td>\n",
       "      <td>Unfriended</td>\n",
       "      <td>1000000.0</td>\n",
       "      <td>32789645.0</td>\n",
       "      <td>64364198.0</td>\n",
       "      <td>Uni.</td>\n",
       "      <td>32500000.0</td>\n",
       "      <td>31600000.0</td>\n",
       "      <td>2015</td>\n",
       "      <td>tt3713166</td>\n",
       "      <td>Horror,Mystery,Thriller</td>\n",
       "      <td>5.6</td>\n",
       "      <td>62043.0</td>\n",
       "      <td>nm0300174</td>\n",
       "      <td>nm4532532</td>\n",
       "      <td>31.789645</td>\n",
       "      <td>0.003179</td>\n",
       "    </tr>\n",
       "  </tbody>\n",
       "</table>\n",
       "</div>"
      ],
      "text/plain": [
       "        id  release_date             movie  production_budget  \\\n",
       "1244  80.0  Jul 10, 2015       The Gallows           100000.0   \n",
       "1206  12.0   Jan 6, 2012  The Devil Inside          1000000.0   \n",
       "1201  63.0   Apr 1, 2011         Insidious          1500000.0   \n",
       "1062  49.0  Feb 24, 2017           Get Out          5000000.0   \n",
       "1207  14.0  Apr 17, 2015        Unfriended          1000000.0   \n",
       "\n",
       "      domestic_gross_tmdb  worldwide_gross_tmdb   studio  domestic_gross  \\\n",
       "1244           22764410.0            41656474.0  WB (NL)      22800000.0   \n",
       "1206           53262945.0           101759490.0     Par.      53300000.0   \n",
       "1201           54009150.0            99870886.0       FD      54000000.0   \n",
       "1062          176040665.0           255367951.0     Uni.     176000000.0   \n",
       "1207           32789645.0            64364198.0     Uni.      32500000.0   \n",
       "\n",
       "      foreign_gross  year     tconst                   genres  Average Rating  \\\n",
       "1244     20200000.0  2015  tt2309260  Horror,Mystery,Thriller             4.2   \n",
       "1206     48500000.0  2012  tt1560985                   Horror             4.2   \n",
       "1201     43000000.0  2011  tt1591095  Horror,Mystery,Thriller             6.9   \n",
       "1062     79400000.0  2017  tt5052448  Horror,Mystery,Thriller             7.7   \n",
       "1207     31600000.0  2015  tt3713166  Horror,Mystery,Thriller             5.6   \n",
       "\n",
       "      Number of Votes            directors              writers      Profit  \\\n",
       "1244          17763.0  nm4000389,nm3951039  nm3951039,nm4000389   22.664410   \n",
       "1206          33522.0            nm0068587  nm0068587,nm1834343   52.262945   \n",
       "1201         254197.0            nm1490123            nm1191481   52.509150   \n",
       "1062         400474.0            nm1443502            nm1443502  171.040665   \n",
       "1207          62043.0            nm0300174            nm4532532   31.789645   \n",
       "\n",
       "      Profit Percentage  \n",
       "1244           0.022664  \n",
       "1206           0.005226  \n",
       "1201           0.003501  \n",
       "1062           0.003421  \n",
       "1207           0.003179  "
      ]
     },
     "execution_count": 124,
     "metadata": {},
     "output_type": "execute_result"
    }
   ],
   "source": [
    "movie_per.head()"
   ]
  },
  {
   "cell_type": "code",
   "execution_count": 132,
   "metadata": {
    "scrolled": true
   },
   "outputs": [
    {
     "data": {
      "image/png": "[encoded data removed]",
      "text/plain": [
       "<Figure size 432x288 with 1 Axes>"
      ]
     },
     "metadata": {
      "needs_background": "light"
     },
     "output_type": "display_data"
    }
   ],
   "source": [
    "ax = sns.regplot(x = \"Average Rating\", y = \"Profit\", data = movie_pro, marker = \"+\", ci = 90, x_bins = 50, color = \"red\")\n",
    "ax.axes.set_title(\"Profit vs Average Rating\",fontsize=20)\n",
    "plt.savefig(\"Profit_vs_rating.png\", transparent=True)"
   ]
  },
  {
   "cell_type": "code",
   "execution_count": 133,
   "metadata": {},
   "outputs": [
    {
     "data": {
      "image/png": "[encoded data removed]",
      "text/plain": [
       "<Figure size 432x288 with 1 Axes>"
      ]
     },
     "metadata": {
      "needs_background": "light"
     },
     "output_type": "display_data"
    }
   ],
   "source": [
    "ax = sns.regplot(x = \"Average Rating\", y = \"Profit Percentage\", data = movie_per, marker = \"+\", ci = 90, x_bins = 50, color = \"red\")\n",
    "ax.axes.set_title(\"Profit % vs Average Rating\",fontsize=20)\n",
    "plt.savefig(\"Profit_Percentage_vs_rating.png\", transparent=True)"
   ]
  },
  {
   "cell_type": "markdown",
   "metadata": {},
   "source": [
    "### Plot the top 10 profitable movies"
   ]
  },
  {
   "cell_type": "code",
   "execution_count": 127,
   "metadata": {},
   "outputs": [
    {
     "data": {
      "image/png": "[encoded data removed]",
      "text/plain": [
       "<Figure size 432x288 with 1 Axes>"
      ]
     },
     "metadata": {
      "needs_background": "light"
     },
     "output_type": "display_data"
    }
   ],
   "source": [
    "b = sns.barplot(x = \"movie\", y = \"Profit\", data = movie_pro[:5], ci = None, color = \"rebeccapurple\")\n",
    "b.axes.set_title(\"Top 5 most profitable movies\",fontsize=20)\n",
    "b.set_xlabel(\"Movie Title\",fontsize=10)\n",
    "b.set_ylabel(\"Millions\",fontsize=10)\n",
    "b.tick_params(labelsize=5)\n",
    "plt.savefig(\"Top_5_most_profitable_movies_Profit.png\", transparent=True)"
   ]
  },
  {
   "cell_type": "code",
   "execution_count": 128,
   "metadata": {},
   "outputs": [
    {
     "data": {
      "image/png": "[encoded data removed]",
      "text/plain": [
       "<Figure size 432x288 with 1 Axes>"
      ]
     },
     "metadata": {
      "needs_background": "light"
     },
     "output_type": "display_data"
    }
   ],
   "source": [
    "b = sns.barplot(x = \"movie\", y = \"Profit Percentage\", data = movie_per[:5], ci = None, color = \"rebeccapurple\")\n",
    "b.axes.set_title(\"Top 5 most profitable movies\",fontsize=20)\n",
    "b.set_xlabel(\"Movie Title\",fontsize=10)\n",
    "b.set_ylabel(\"Percentage\",fontsize=10)\n",
    "b.tick_params(labelsize=5)\n",
    "\n",
    "plt.savefig(\"Top_5_most_profitable_movies_Percentage.png\")\n",
    "#b.savefig(\"Top 5 most profitable movies Per.png\")\n",
    "#sns.plt.show()"
   ]
  },
  {
   "cell_type": "markdown",
   "metadata": {},
   "source": [
    "### Create a dataset only including profitable movies and imdb index (tconst)"
   ]
  },
  {
   "cell_type": "code",
   "execution_count": 129,
   "metadata": {},
   "outputs": [],
   "source": [
    "movie_index = movie_pro.loc[movie_pro[\"Profit\"] > 0]\n",
    "movie_index = movie_index.dropna(subset = [\"tconst\"])"
   ]
  },
  {
   "cell_type": "code",
   "execution_count": 130,
   "metadata": {},
   "outputs": [
    {
     "data": {
      "image/png": "[encoded data removed]",
      "text/plain": [
       "<Figure size 432x288 with 1 Axes>"
      ]
     },
     "metadata": {
      "needs_background": "light"
     },
     "output_type": "display_data"
    }
   ],
   "source": [
    "b = sns.barplot(x = \"studio\", y = \"Profit\", data = movie_index[:10], ci = None, color = \"rebeccapurple\")\n",
    "b.axes.set_title(\"Top 10 in studios\",fontsize=20)\n",
    "b.set_xlabel(\"Movie Studio\",fontsize = 10)\n",
    "b.set_ylabel(\"Millions\",fontsize = 10)\n",
    "b.tick_params(labelsize = 10)\n",
    "plt.savefig(\"Top_10_most_profitable_movies_Profit_studio.png\", transparent=True)"
   ]
  },
  {
   "cell_type": "code",
   "execution_count": 102,
   "metadata": {},
   "outputs": [],
   "source": [
    "movie_index"
   ]
  },
  {
   "cell_type": "code",
   "execution_count": null,
   "metadata": {},
   "outputs": [],
   "source": []
  }
 ],
 "metadata": {
  "kernelspec": {
   "display_name": "Python 3",
   "language": "python",
   "name": "python3"
  },
  "language_info": {
   "codemirror_mode": {
    "name": "ipython",
    "version": 3
   },
   "file_extension": ".py",
   "mimetype": "text/x-python",
   "name": "python",
   "nbconvert_exporter": "python",
   "pygments_lexer": "ipython3",
   "version": "3.6.9"
  }
 },
 "nbformat": 4,
 "nbformat_minor": 2
}
